{
  "nbformat": 4,
  "nbformat_minor": 0,
  "metadata": {
    "colab": {
      "provenance": []
    },
    "kernelspec": {
      "name": "python3",
      "display_name": "Python 3"
    },
    "language_info": {
      "name": "python"
    }
  },
  "cells": [
    {
      "cell_type": "markdown",
      "source": [
        "# Data Science Tools and Ecosystem"
      ],
      "metadata": {
        "id": "zA8Zn_-gXVHp"
      }
    },
    {
      "cell_type": "markdown",
      "source": [
        "In this notebook, Data Science Tools and Ecosystem are summarized."
      ],
      "metadata": {
        "id": "ebzR2g7KYcJc"
      }
    },
    {
      "cell_type": "markdown",
      "source": [
        "Some of the popular languages that Data Scientists use are:\n",
        "\n",
        "1. **Python**\n",
        "2. **R**\n",
        "3. **SQL**\n",
        "4. **Java**\n",
        "5. **Julia**"
      ],
      "metadata": {
        "id": "6ZoscO3jYdT9"
      }
    },
    {
      "cell_type": "markdown",
      "source": [
        "Some of the commonly used libraries used by Data Scientists include:\n",
        "\n",
        "1. **NumPy**\n",
        "2. **Pandas**\n",
        "3. **Scikit-learn**\n",
        "4. **TensorFlow**\n",
        "5. **Matplotlib**\n"
      ],
      "metadata": {
        "id": "IxTUje_dZWaa"
      }
    },
    {
      "cell_type": "markdown",
      "source": [
        "| Data Science Tools         |\n",
        "|----------------------------|\n",
        "| Jupyter Notebook           |\n",
        "| RStudio                    |\n",
        "| Apache Zeppelin            |\n"
      ],
      "metadata": {
        "id": "SSfNVkcwZyIW"
      }
    },
    {
      "cell_type": "markdown",
      "source": [
        "### Below are a few examples of evaluating arithmetic expressions in Python"
      ],
      "metadata": {
        "id": "nQ_YWKndal8P"
      }
    },
    {
      "cell_type": "code",
      "source": [
        "# This a simple arithmetic expression to mutiply then add integers\n",
        "x=(3*4)+5\n",
        "print(x)"
      ],
      "metadata": {
        "colab": {
          "base_uri": "https://localhost:8080/"
        },
        "id": "VTexdQCpbMId",
        "outputId": "9da9e9a6-89d5-4da4-fac8-4cb68eec7403"
      },
      "execution_count": null,
      "outputs": [
        {
          "output_type": "stream",
          "name": "stdout",
          "text": [
            "17\n"
          ]
        }
      ]
    },
    {
      "cell_type": "code",
      "source": [
        "# This will convert 200 minutes to hours by diving by 60\n",
        "# Conversion of 200 minutes to hours\n",
        "minutes = 200\n",
        "hours = minutes / 60\n",
        "hours"
      ],
      "metadata": {
        "colab": {
          "base_uri": "https://localhost:8080/"
        },
        "id": "TXnkBk0SblxQ",
        "outputId": "00aad995-0545-4a7b-dde2-bb0371ea647a"
      },
      "execution_count": null,
      "outputs": [
        {
          "output_type": "execute_result",
          "data": {
            "text/plain": [
              "3.3333333333333335"
            ]
          },
          "metadata": {},
          "execution_count": 3
        }
      ]
    },
    {
      "cell_type": "markdown",
      "source": [
        "**Objectives:**\n",
        "\n",
        "- List popular languages for Data Science\n",
        "- Identify commonly used libraries in Data Science\n",
        "- Highlight open-source development environments for Data Science\n",
        "- Demonstrate basic conversions (e.g., minutes to hours)"
      ],
      "metadata": {
        "id": "Bm4QMFeick7C"
      }
    },
    {
      "cell_type": "markdown",
      "source": [
        "## Author\n",
        "Declan"
      ],
      "metadata": {
        "id": "7-RL5P-6dDOg"
      }
    }
  ]
}